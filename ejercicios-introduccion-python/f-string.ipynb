{
 "cells": [
  {
   "cell_type": "markdown",
   "metadata": {},
   "source": [
    "# Ejercicio 3 - f strings\n",
    "---\n",
    "\n",
    "Obtenga los siguientes resultados utilizando «f-strings»:\n",
    "\n",
    "e = 2.71828 \n",
    "\n",
    "![ejercicio-3](../img/ejercicio-3-1.png)\n",
    "![ejercicio-3](../img/ejercicio-3-2.png)"
   ]
  },
  {
   "cell_type": "code",
   "execution_count": null,
   "metadata": {},
   "outputs": [],
   "source": [
    "e = 2.71828\n",
    "\n",
    "print(f'{e:.3f}')\n",
    "print(f'{e:.6f}')\n",
    "print(f'{e:8.2f}')\n",
    "print(f'{e:e}')\n",
    "print(f'{e:010.4f}')\n",
    "print(f'{e:18.4f}')"
   ]
  }
 ],
 "metadata": {
  "interpreter": {
   "hash": "aee8b7b246df8f9039afb4144a1f6fd8d2ca17a180786b69acc140d282b71a49"
  },
  "kernelspec": {
   "display_name": "Python 3.10.2 64-bit",
   "language": "python",
   "name": "python3"
  },
  "language_info": {
   "codemirror_mode": {
    "name": "ipython",
    "version": 3
   },
   "file_extension": ".py",
   "mimetype": "text/x-python",
   "name": "python",
   "nbconvert_exporter": "python",
   "pygments_lexer": "ipython3",
   "version": "3.10.2"
  },
  "orig_nbformat": 4
 },
 "nbformat": 4,
 "nbformat_minor": 2
}
