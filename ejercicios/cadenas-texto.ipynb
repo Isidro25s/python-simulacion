{
 "cells": [
  {
   "cell_type": "markdown",
   "metadata": {},
   "source": [
    "# Ejercicio 2\n",
    "---\n",
    "\n",
    "Escriba un programa en Python que lea por teclado dos números enteros y muestre por pantalla el resultado de realizar las operaciones básicas entre ellos.\n",
    "\n",
    "### Ejemplo\n",
    "Valores de entrada: 7, 4\n",
    "\n",
    "Salida esperada:\n",
    "- 7 + 4 = 11 \n",
    "- 7 - 4 = 3 \n",
    "- 7 * 4 = 28 \n",
    "- 7 / 4 = 1.75 \n"
   ]
  },
  {
   "cell_type": "code",
   "execution_count": null,
   "metadata": {},
   "outputs": [],
   "source": [
    "x = int(input('Valor 1: '))\n",
    "y = int(input('Valor 2: '))\n",
    "\n",
    "print(f'{x} + {y} = {x + y}')\n",
    "print(f'{x} - {y} = {x - y}')\n",
    "print(f'{x} * {y} = {x * y}')\n",
    "print(f'{x} / {y} = {x / y}')"
   ]
  }
 ],
 "metadata": {
  "interpreter": {
   "hash": "aee8b7b246df8f9039afb4144a1f6fd8d2ca17a180786b69acc140d282b71a49"
  },
  "kernelspec": {
   "display_name": "Python 3.9.10 64-bit",
   "language": "python",
   "name": "python3"
  },
  "language_info": {
   "codemirror_mode": {
    "name": "ipython",
    "version": 3
   },
   "file_extension": ".py",
   "mimetype": "text/x-python",
   "name": "python",
   "nbconvert_exporter": "python",
   "pygments_lexer": "ipython3",
   "version": "3.9.10"
  },
  "orig_nbformat": 4
 },
 "nbformat": 4,
 "nbformat_minor": 2
}
