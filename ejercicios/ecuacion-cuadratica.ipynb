{
 "cells": [
  {
   "cell_type": "markdown",
   "metadata": {},
   "source": [
    "# Ejercicio 1 - Ecuación Cuadrática\n",
    "---\n",
    "\n",
    "![ejercicio-1](../img/ejercicio-1.png)"
   ]
  },
  {
   "cell_type": "code",
   "execution_count": 1,
   "metadata": {},
   "outputs": [
    {
     "name": "stdout",
     "output_type": "stream",
     "text": [
      "x1 = 1.0\n",
      "x2 = 0.5\n",
      "\n",
      "Resultado de la ecuacion con x1: 0.0\n",
      "Resultado de la ecuacion con x2: 0.0\n"
     ]
    }
   ],
   "source": [
    "a, b, c = 4, -6, 2\n",
    "\n",
    "discr = (b ** 2) - (4 * a * c)\n",
    "\n",
    "x1 = (-b + (discr ** 0.5)) / (2 * a)  \n",
    "x2 = (-b - (discr ** 0.5)) / (2 * a)  \n",
    "\n",
    "print(f'x1 = {x1}')\n",
    "print(f'x2 = {x2}\\n')\n",
    "\n",
    "res_x1 = (a * (x1 ** 2))  + (b * x1) + c\n",
    "res_x2 = (a * (x2 ** 2)) + (b * x2) + c\n",
    "\n",
    "print(f'Resultado de la ecuacion con x1: {res_x1}')\n",
    "print(f'Resultado de la ecuacion con x2: {res_x2}')"
   ]
  }
 ],
 "metadata": {
  "interpreter": {
   "hash": "aee8b7b246df8f9039afb4144a1f6fd8d2ca17a180786b69acc140d282b71a49"
  },
  "kernelspec": {
   "display_name": "Python 3.9.7 64-bit",
   "language": "python",
   "name": "python3"
  },
  "language_info": {
   "codemirror_mode": {
    "name": "ipython",
    "version": 3
   },
   "file_extension": ".py",
   "mimetype": "text/x-python",
   "name": "python",
   "nbconvert_exporter": "python",
   "pygments_lexer": "ipython3",
   "version": "3.10.2"
  },
  "orig_nbformat": 4
 },
 "nbformat": 4,
 "nbformat_minor": 2
}
