{
 "cells": [
  {
   "cell_type": "markdown",
   "metadata": {},
   "source": [
    "# Ejercicio 7\n",
    "---\n",
    "\n",
    "Escriba un programa en Python que acepte edad, peso, pulso y plaquetas, y determine si una persona cumple con estos requisitos para donar sangre.\n",
    "\n",
    "### Ejemplo\n",
    "Valores: \n",
    "- edad = 34\n",
    "- peso = 81\n",
    "- heartbeat = 70\n",
    "- plaquetas = 150000\n",
    "\n",
    "Salida esperada: Apto para donar sangre"
   ]
  },
  {
   "cell_type": "code",
   "execution_count": 7,
   "metadata": {},
   "outputs": [
    {
     "name": "stdout",
     "output_type": "stream",
     "text": [
      "No apto para donar sangre\n"
     ]
    }
   ],
   "source": [
    "edad = int(input('Edad: '))\n",
    "peso = int(input('Peso: '))\n",
    "heartbeat = int(input('Heart Beat: '))\n",
    "plaquetas = int(input('Plaquetas: '))\n",
    "\n",
    "if edad != 34 or peso != 81 or heartbeat != 70 or plaquetas != 150000:\n",
    "    print('No apto para donar sangre')\n",
    "else: \n",
    "    print('Apto para donar sangre')"
   ]
  }
 ],
 "metadata": {
  "interpreter": {
   "hash": "aee8b7b246df8f9039afb4144a1f6fd8d2ca17a180786b69acc140d282b71a49"
  },
  "kernelspec": {
   "display_name": "Python 3.9.10 64-bit",
   "language": "python",
   "name": "python3"
  },
  "language_info": {
   "codemirror_mode": {
    "name": "ipython",
    "version": 3
   },
   "file_extension": ".py",
   "mimetype": "text/x-python",
   "name": "python",
   "nbconvert_exporter": "python",
   "pygments_lexer": "ipython3",
   "version": "3.10.2"
  },
  "orig_nbformat": 4
 },
 "nbformat": 4,
 "nbformat_minor": 2
}
