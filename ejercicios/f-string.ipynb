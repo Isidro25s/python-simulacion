{
 "cells": [
  {
   "cell_type": "markdown",
   "metadata": {},
   "source": [
    "# Ejercicio 3 - f strings\n",
    "---\n",
    "\n",
    "Obtenga los siguientes resultados utilizando «f-strings»:\n",
    "\n",
    "e = 2.71828 \n",
    "\n",
    "![ejercicio-3](../img/ejercicio-3-1.png)\n",
    "![ejercicio-3](../img/ejercicio-3-2.png)"
   ]
  },
  {
   "cell_type": "code",
   "execution_count": null,
   "metadata": {},
   "outputs": [],
   "source": [
    "e = 2.71828\n",
    "\n",
    "print(f'{e:.3f}')\n",
    "print(f'{e:.6f}')\n",
    "print(f'{e:8.2f}')\n",
    "print(f'{e:e}')\n",
    "print(f'{e:18.4f}')"
   ]
  }
 ],
 "metadata": {
  "language_info": {
   "name": "python"
  },
  "orig_nbformat": 4
 },
 "nbformat": 4,
 "nbformat_minor": 2
}
