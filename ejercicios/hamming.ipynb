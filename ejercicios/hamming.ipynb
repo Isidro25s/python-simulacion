{
 "cells": [
  {
   "cell_type": "markdown",
   "metadata": {},
   "source": [
    "# Ejercicio 4 - Distancia de Hamming\n",
    "---\n",
    "Escriba un programa que calcule la distancia hamming entre dos cadenas de texto de la misma longitud.\n",
    "\n",
    "\n",
    "### Ejemplo\n",
    "- Entrada: 000<span style=\"color:blue\">10</span>1001<span style=\"color:blue\">11</span>01 y 000<span style=\"color:red\">01</span>1001<span style=\"color:red\">00</span>01\n",
    "- Salida: 4\n"
   ]
  },
  {
   "cell_type": "code",
   "execution_count": null,
   "metadata": {},
   "outputs": [],
   "source": [
    "x = '0001010011101'\n",
    "y = '0000110010001'\n",
    "num = 0\n",
    "dist = 0\n",
    "\n",
    "if len(x) == len(y):\n",
    "    while num < len(x):\n",
    "        if x[num] != y[num]:\n",
    "            dist += 1\n",
    "        num += 1\n",
    "\n",
    "print(f'Distancia: {dist}')"
   ]
  }
 ],
 "metadata": {
  "interpreter": {
   "hash": "aee8b7b246df8f9039afb4144a1f6fd8d2ca17a180786b69acc140d282b71a49"
  },
  "kernelspec": {
   "display_name": "Python 3.9.10 64-bit",
   "language": "python",
   "name": "python3"
  },
  "language_info": {
   "codemirror_mode": {
    "name": "ipython",
    "version": 3
   },
   "file_extension": ".py",
   "mimetype": "text/x-python",
   "name": "python",
   "nbconvert_exporter": "python",
   "pygments_lexer": "ipython3",
   "version": "3.10.2"
  },
  "orig_nbformat": 4
 },
 "nbformat": 4,
 "nbformat_minor": 2
}
