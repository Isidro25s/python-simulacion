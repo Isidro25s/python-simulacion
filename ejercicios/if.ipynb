{
 "cells": [
  {
   "cell_type": "markdown",
   "metadata": {},
   "source": [
    "# Ejercicio 6 - If\n",
    "---\n",
    "\n",
    "![ejercicio-6](../img/ejercicio-6.jpg)\n",
    "\n",
    "\n",
    "Ejemplo\n",
    "- Entrada: can_fly = True, is_human = True y has_mask = True\n",
    "- Salida: Ironman"
   ]
  },
  {
   "cell_type": "code",
   "execution_count": null,
   "metadata": {},
   "outputs": [],
   "source": [
    "can_fly, is_human, has_mask = True, True, True\n",
    "\n",
    "if can_fly and is_human: \n",
    "    if has_mask:\n",
    "        print('Ironman')\n",
    "    else:\n",
    "        print('Captain Marvel')\n",
    "elif can_fly and not(is_human):\n",
    "    if has_mask:\n",
    "        print('Ronan Accuser')\n",
    "    else:\n",
    "        print('Vision')\n",
    "elif not(can_fly) and is_human: \n",
    "    if has_mask:\n",
    "        print('Spiderman')\n",
    "    else:\n",
    "        print('Hulk')\n",
    "elif not(can_fly and is_human):\n",
    "    if has_mask:\n",
    "        print('Black Bolt')\n",
    "    else:\n",
    "        print('Thanos')"
   ]
  }
 ],
 "metadata": {
  "interpreter": {
   "hash": "aee8b7b246df8f9039afb4144a1f6fd8d2ca17a180786b69acc140d282b71a49"
  },
  "kernelspec": {
   "display_name": "Python 3.9.10 64-bit",
   "language": "python",
   "name": "python3"
  },
  "language_info": {
   "codemirror_mode": {
    "name": "ipython",
    "version": 3
   },
   "file_extension": ".py",
   "mimetype": "text/x-python",
   "name": "python",
   "nbconvert_exporter": "python",
   "pygments_lexer": "ipython3",
   "version": "3.9.10"
  },
  "orig_nbformat": 4
 },
 "nbformat": 4,
 "nbformat_minor": 2
}
