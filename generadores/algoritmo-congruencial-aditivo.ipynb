{
 "cells": [
  {
   "cell_type": "code",
   "execution_count": null,
   "metadata": {},
   "outputs": [],
   "source": [
    "# Valores de prueba x1 = 65, x2 = 89, x3 = 98, x4 = 3, x5 = 69, m = 100\n",
    "x1 = int(input('x1: '))\n",
    "x2 = int(input('x2: '))\n",
    "x3 = int(input('x3: '))\n",
    "x4 = int(input('x4: '))\n",
    "x5 = int(input('x5: '))\n",
    "m = int(input('m: '))\n",
    "\n",
    "xi1 = [x5]\n",
    "xin = [x1, x2, x3, x4, x5]\n",
    "xi = []\n",
    "\n",
    "ri = []\n",
    "\n",
    "leng = 1\n",
    "i = 0\n",
    "\n",
    "while i < leng:\n",
    "    xir = (xi1[i] + xin[i]) % m\n",
    "    xi.append(xir)\n",
    "    xi1.append(xir)\n",
    "    xin.append(xir)\n",
    "    \n",
    "    rir = xir / (m - 1)\n",
    "    rir = f'{rir:.6f}'\n",
    "    ri.append(float(rir))\n",
    "\n",
    "    if ri.count(ri[i]) > 1:\n",
    "            break\n",
    "    i += 1\n",
    "    leng += 1\n",
    "  \n",
    "print(ri)"
   ]
  }
 ],
 "metadata": {
  "interpreter": {
   "hash": "aee8b7b246df8f9039afb4144a1f6fd8d2ca17a180786b69acc140d282b71a49"
  },
  "kernelspec": {
   "display_name": "Python 3.10.2 64-bit",
   "language": "python",
   "name": "python3"
  },
  "language_info": {
   "codemirror_mode": {
    "name": "ipython",
    "version": 3
   },
   "file_extension": ".py",
   "mimetype": "text/x-python",
   "name": "python",
   "nbconvert_exporter": "python",
   "pygments_lexer": "ipython3",
   "version": "3.10.4"
  },
  "orig_nbformat": 4
 },
 "nbformat": 4,
 "nbformat_minor": 2
}
