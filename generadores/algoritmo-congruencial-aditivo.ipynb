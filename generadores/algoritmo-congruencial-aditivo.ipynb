{
 "cells": [
  {
   "cell_type": "code",
   "execution_count": null,
   "metadata": {},
   "outputs": [],
   "source": [
    "from guardarNumeros import guardarNumeros\n",
    "\n",
    "# Agregar el nombre del archivo en la siguiente variable\n",
    "archivo = '.csv'\n",
    "\n",
    "# Valores de prueba x1 = 65, x2 = 89, x3 = 98, x4 = 3, x5 = 69, m = 100\n",
    "x1 = 0\n",
    "x2 = 0\n",
    "x3 = 0\n",
    "x4 = 0\n",
    "x5 = 0\n",
    "m = 0\n",
    "\n",
    "xi1 = [x5]\n",
    "xin = [x1, x2, x3, x4, x5]\n",
    "xi = []\n",
    "\n",
    "ri = []\n",
    "\n",
    "leng = 1\n",
    "i = 0\n",
    "\n",
    "while i < leng:\n",
    "    xir = (xi1[i] + xin[i]) % m\n",
    "    xi.append(xir)\n",
    "    xi1.append(xir)\n",
    "    xin.append(xir)\n",
    "    \n",
    "    rir = xir / (m - 1)\n",
    "    rir = f'{rir:.6f}'\n",
    "    ri.append(float(rir))\n",
    "\n",
    "    if ri.count(ri[i]) > 1:\n",
    "            break\n",
    "    i += 1\n",
    "    leng += 1\n",
    "\n",
    "guardarNumeros(archivo, ri[0:10000])\n",
    "print(ri)"
   ]
  }
 ],
 "metadata": {
  "interpreter": {
   "hash": "916dbcbb3f70747c44a77c7bcd40155683ae19c65e1c03b4aa3499c5328201f1"
  },
  "kernelspec": {
   "display_name": "Python 3.10.4 64-bit",
   "language": "python",
   "name": "python3"
  },
  "language_info": {
   "codemirror_mode": {
    "name": "ipython",
    "version": 3
   },
   "file_extension": ".py",
   "mimetype": "text/x-python",
   "name": "python",
   "nbconvert_exporter": "python",
   "pygments_lexer": "ipython3",
   "version": "3.10.4"
  },
  "orig_nbformat": 4
 },
 "nbformat": 4,
 "nbformat_minor": 2
}
