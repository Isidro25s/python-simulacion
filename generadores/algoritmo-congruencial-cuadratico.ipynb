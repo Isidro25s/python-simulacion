{
 "cells": [
  {
   "cell_type": "code",
   "execution_count": null,
   "metadata": {},
   "outputs": [],
   "source": [
    "from guardarNumeros import guardarNumeros\n",
    "\n",
    "# Agregar el nombre del archivo en la siguiente variable\n",
    "archivo = '.csv'\n",
    "\n",
    "# Valores de prueba x0 = 13, a = 26, b = 10, c = 27, g = 3\n",
    "x0 = 0\n",
    "a = 0\n",
    "b = 0\n",
    "c = 0\n",
    "g = 0\n",
    "\n",
    "m = 2 ** g\n",
    "\n",
    "xi = []\n",
    "ri = []\n",
    "\n",
    "leng = 1\n",
    "i = 0\n",
    "\n",
    "if a % 2 == 0 and c % 2 != 0 and (b - 1) % 4 == 1:\n",
    "    xi.append(x0)\n",
    "\n",
    "    while i < leng:\n",
    "        xir = ((a * (xi[i] ** 2)) + (b * xi[i]) + c) % m\n",
    "        xi.append(xir)\n",
    "\n",
    "        rir = xir / (m - 1)\n",
    "        rir = f'{rir:.6f}'\n",
    "        ri.append(float(rir))\n",
    "\n",
    "        if ri.count(ri[i]) > 1:\n",
    "            break\n",
    "        i += 1\n",
    "        leng += 1\n",
    "\n",
    "        if leng == 10:\n",
    "            break\n",
    "    xi.pop(0)\n",
    "    guardarNumeros(archivo, ri[0:10000])\n",
    "\n",
    "    print(ri)\n",
    "else: \n",
    "    print('Verifique los numeros de entrada!')"
   ]
  }
 ],
 "metadata": {
  "interpreter": {
   "hash": "916dbcbb3f70747c44a77c7bcd40155683ae19c65e1c03b4aa3499c5328201f1"
  },
  "kernelspec": {
   "display_name": "Python 3.10.4 64-bit",
   "language": "python",
   "name": "python3"
  },
  "language_info": {
   "codemirror_mode": {
    "name": "ipython",
    "version": 3
   },
   "file_extension": ".py",
   "mimetype": "text/x-python",
   "name": "python",
   "nbconvert_exporter": "python",
   "pygments_lexer": "ipython3",
   "version": "3.10.4"
  },
  "orig_nbformat": 4
 },
 "nbformat": 4,
 "nbformat_minor": 2
}
