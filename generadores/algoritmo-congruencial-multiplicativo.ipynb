{
 "cells": [
  {
   "cell_type": "code",
   "execution_count": null,
   "metadata": {},
   "outputs": [],
   "source": [
    "from guardarNumeros import guardarNumeros\n",
    "\n",
    "# Agregar el nombre del archivo en la siguiente variable\n",
    "archivo = '.csv'\n",
    "\n",
    "# Valores de prueba x0 = 17, k = 2, g = 5\n",
    "x0 = 0\n",
    "k = 0\n",
    "g = 0\n",
    "\n",
    "a = 3 + (8 * k)\n",
    "m = 2 ** g\n",
    "n = 2 ** (g - 2)\n",
    "\n",
    "xi = []\n",
    "ri = []\n",
    "\n",
    "def algoritmoCM(x0, a, m, leng):\n",
    "    for x in range(leng):\n",
    "        xir = (a * x0) % m\n",
    "        x0 = xir\n",
    "        \n",
    "        rir = xir / (m - 1)\n",
    "        rir = f'{rir:.5f}'\n",
    "        ri.append(float(rir))\n",
    "    print(ri)\n",
    "    guardarNumeros(archivo, ri)\n",
    "\n",
    "if x0 % 2 != 0:\n",
    "  algoritmoCM(x0, a, m, n)\n",
    "else:\n",
    "  print('Verifique los numeros de entrada!')"
   ]
  }
 ],
 "metadata": {
  "interpreter": {
   "hash": "aee8b7b246df8f9039afb4144a1f6fd8d2ca17a180786b69acc140d282b71a49"
  },
  "kernelspec": {
   "display_name": "Python 3.10.2 64-bit",
   "language": "python",
   "name": "python3"
  },
  "language_info": {
   "codemirror_mode": {
    "name": "ipython",
    "version": 3
   },
   "file_extension": ".py",
   "mimetype": "text/x-python",
   "name": "python",
   "nbconvert_exporter": "python",
   "pygments_lexer": "ipython3",
   "version": "3.10.4"
  },
  "orig_nbformat": 4
 },
 "nbformat": 4,
 "nbformat_minor": 2
}
