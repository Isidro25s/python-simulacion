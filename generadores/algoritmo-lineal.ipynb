{
 "cells": [
  {
   "cell_type": "code",
   "execution_count": null,
   "metadata": {},
   "outputs": [],
   "source": [
    "# Valores de prueba x0 = 8, k = 5, g = 5, c = 5\n",
    "x0 = int(input('x0:'))\n",
    "k = int(input('k:'))\n",
    "g = int(input('g:'))\n",
    "c = int(input('c:'))\n",
    "\n",
    "a = 1 + (4 * k)\n",
    "m = 2 ** g\n",
    "n = m\n",
    "\n",
    "xi = []\n",
    "ri = []\n",
    "\n",
    "# Funcion para validar si dos numeros son relativamente primo\n",
    "def esRP(a, b):\n",
    "    fcg = 1\n",
    "    for i in range(1, a + 1):\n",
    "        if a % i == 0 and b % i == 0:\n",
    "            fcg = i\n",
    "    return fcg == 1\n",
    "   \n",
    "def algoritmoLineal(x0, a, c, m, leng):\n",
    "    for x in range(leng):\n",
    "        xir = ((a * x0) + c) % m\n",
    "        x0 = xir\n",
    "        \n",
    "        rir = xir / (m - 1)\n",
    "        rir = f'{rir:.5f}'\n",
    "        ri.append(float(rir))\n",
    "    print(ri)\n",
    "    \n",
    "if esRP(c, m):\n",
    "  algoritmoLineal(x0, a, c, m, n)\n",
    "else:\n",
    "  print('Verifique los numeros de entrada!')\n"
   ]
  }
 ],
 "metadata": {
  "interpreter": {
   "hash": "aee8b7b246df8f9039afb4144a1f6fd8d2ca17a180786b69acc140d282b71a49"
  },
  "kernelspec": {
   "display_name": "Python 3.10.2 64-bit",
   "language": "python",
   "name": "python3"
  },
  "language_info": {
   "codemirror_mode": {
    "name": "ipython",
    "version": 3
   },
   "file_extension": ".py",
   "mimetype": "text/x-python",
   "name": "python",
   "nbconvert_exporter": "python",
   "pygments_lexer": "ipython3",
   "version": "3.10.2"
  },
  "orig_nbformat": 4
 },
 "nbformat": 4,
 "nbformat_minor": 2
}
