{
 "cells": [
  {
   "cell_type": "code",
   "execution_count": null,
   "metadata": {},
   "outputs": [],
   "source": [
    "# Valores de prueba x0 = 13, a = 26, b = 10, c = 27, g = 3\n",
    "x0 = int(input('x0: '))\n",
    "a = int(input('a: '))\n",
    "b = int(input('b: '))\n",
    "c = int(input('c: '))\n",
    "g = int(input('g: '))\n",
    "\n",
    "m = 2 ** g\n",
    "\n",
    "xi = []\n",
    "ri = []\n",
    "\n",
    "leng = 1\n",
    "i = 0\n",
    "\n",
    "if a % 2 == 0 and c % 2 != 0 and (b - 1) % 4 == 1:\n",
    "    xi.append(x0)\n",
    "\n",
    "    while i < leng:\n",
    "        xir = ((a * (xi[i] ** 2)) + (b * xi[i]) + c) % m\n",
    "        xi.append(xir)\n",
    "\n",
    "        rir = xir / (m - 1)\n",
    "        rir = f'{rir:.6f}'\n",
    "        ri.append(float(rir))\n",
    "\n",
    "        if ri.count(ri[i]) > 1:\n",
    "            break\n",
    "        i += 1\n",
    "        leng += 1\n",
    "\n",
    "        if leng == 10:\n",
    "            break\n",
    "    xi.pop(0)\n",
    "else: \n",
    "    print('Verifique los numeros de entrada!')\n",
    "\n",
    "print(ri)"
   ]
  }
 ],
 "metadata": {
  "interpreter": {
   "hash": "aee8b7b246df8f9039afb4144a1f6fd8d2ca17a180786b69acc140d282b71a49"
  },
  "kernelspec": {
   "display_name": "Python 3.10.2 64-bit",
   "language": "python",
   "name": "python3"
  },
  "language_info": {
   "codemirror_mode": {
    "name": "ipython",
    "version": 3
   },
   "file_extension": ".py",
   "mimetype": "text/x-python",
   "name": "python",
   "nbconvert_exporter": "python",
   "pygments_lexer": "ipython3",
   "version": "3.10.4"
  },
  "orig_nbformat": 4
 },
 "nbformat": 4,
 "nbformat_minor": 2
}
