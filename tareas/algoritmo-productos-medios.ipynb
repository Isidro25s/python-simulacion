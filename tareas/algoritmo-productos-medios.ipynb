{
 "cells": [
  {
   "cell_type": "code",
   "execution_count": null,
   "metadata": {},
   "outputs": [],
   "source": [
    "x0 = int(input('x0:'))\n",
    "x1 = int(input('x1:'))\n",
    "d = int(input('D:'))\n",
    "leng = int(input('Numeros a generar:'))\n",
    "\n",
    "xn = []\n",
    "rn = []\n",
    "\n",
    "i = 0\n",
    "\n",
    "if len(str(x0)) and len(str(x1)) > 3:\n",
    "    xn.append(x0)\n",
    "    xn.append(x1)\n",
    "\n",
    "    while i < leng:\n",
    "        xnr = xn[i] * xn[i + 1]\n",
    "        xnr = str(xnr)\n",
    "\n",
    "        if len(xnr) % 2 != 0:\n",
    "            xnr = '0' + xnr\n",
    "\n",
    "        start = int(len(xnr) / 2 - d / 2)\n",
    "        end = int(len(xnr) / 2 + d / 2)\n",
    "        xnr = xnr[start:end]\n",
    "\n",
    "        xnr = int(xnr)\n",
    "        xn.append(xnr)\n",
    "\n",
    "        xnr = '0.' + str(xnr)\n",
    "        rn.append(float(xnr))\n",
    "\n",
    "        if rn.count(rn[i]) > 1:\n",
    "            print(f'Ciclo de vida es de: { len(rn) }\\n')\n",
    "            break\n",
    "        i += 1\n",
    "    xn.pop(0)\n",
    "    xn.pop(0)\n",
    "    print(f'Xn: {xn}\\n')\n",
    "    print(f'rn: {rn}')\n",
    "else: \n",
    "    print('Verifique los numeros de entrada!')"
   ]
  }
 ],
 "metadata": {
  "interpreter": {
   "hash": "aee8b7b246df8f9039afb4144a1f6fd8d2ca17a180786b69acc140d282b71a49"
  },
  "kernelspec": {
   "display_name": "Python 3.10.2 64-bit",
   "language": "python",
   "name": "python3"
  },
  "language_info": {
   "codemirror_mode": {
    "name": "ipython",
    "version": 3
   },
   "file_extension": ".py",
   "mimetype": "text/x-python",
   "name": "python",
   "nbconvert_exporter": "python",
   "pygments_lexer": "ipython3",
   "version": "3.10.2"
  },
  "orig_nbformat": 4
 },
 "nbformat": 4,
 "nbformat_minor": 2
}
