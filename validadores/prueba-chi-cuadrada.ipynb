{
 "cells": [
  {
   "cell_type": "code",
   "execution_count": null,
   "metadata": {},
   "outputs": [],
   "source": [
    "from extraerNumeros import extraerNumeros\n",
    "\n",
    "# Agregar el nombre del archivo en la siguiente variable\n",
    "archivo = '.csv'\n",
    "ri = extraerNumeros(archivo)\n",
    "\n",
    "def pruebaChiCuadrada(conjuntoNums):\n",
    "    limitesInf = [0]\n",
    "    limitesSup = []\n",
    "    frecObservada = []\n",
    "    frecEsperada = 10000 / 100\n",
    "    frecFinal = []\n",
    "    chiCuadrada = 0\n",
    "    tablas = 0.5 * ((1.96 + ((2 * 9999) ** 0.5)) ** 2)\n",
    "\n",
    "    m = 10000 ** 0.5\n",
    "    anchoIntervalo = 1 / m\n",
    "    for x in range(int(m)):\n",
    "        res = limitesInf[x] + anchoIntervalo\n",
    "        res = f'{res:.2f}'\n",
    "        limitesSup.append(float(res))\n",
    "        limitesInf.append(float(res))\n",
    "    limitesInf.pop(-1)\n",
    "\n",
    "    for x in range(int(m)):\n",
    "        contador = 0\n",
    "        for y in range(len(conjuntoNums)):\n",
    "            if conjuntoNums[y] > limitesInf[x] and conjuntoNums[y] <= limitesSup[x]:\n",
    "                contador += 1\n",
    "        frecObservada.append(contador)\n",
    "        frecFinal.append(((frecEsperada - frecObservada[x]) ** 2) / frecEsperada)\n",
    "    chiCuadrada = sum(frecFinal)\n",
    "    return chiCuadrada < tablas\n",
    "\n",
    "if pruebaChiCuadrada(ri):\n",
    "    print('El conjunto de numeros ri pasaron la prueba chi cuadrada')\n",
    "else:\n",
    "    print('El conjunto de numeros ri no pasaron la prueba chi cuadrada')"
   ]
  }
 ],
 "metadata": {
  "interpreter": {
   "hash": "916dbcbb3f70747c44a77c7bcd40155683ae19c65e1c03b4aa3499c5328201f1"
  },
  "kernelspec": {
   "display_name": "Python 3.10.4 64-bit",
   "language": "python",
   "name": "python3"
  },
  "language_info": {
   "codemirror_mode": {
    "name": "ipython",
    "version": 3
   },
   "file_extension": ".py",
   "mimetype": "text/x-python",
   "name": "python",
   "nbconvert_exporter": "python",
   "pygments_lexer": "ipython3",
   "version": "3.10.4"
  },
  "orig_nbformat": 4
 },
 "nbformat": 4,
 "nbformat_minor": 2
}
