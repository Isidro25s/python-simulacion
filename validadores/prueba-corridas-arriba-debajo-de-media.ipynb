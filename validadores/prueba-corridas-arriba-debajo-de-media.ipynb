{
 "cells": [
  {
   "cell_type": "code",
   "execution_count": null,
   "metadata": {},
   "outputs": [],
   "source": [
    "from extraerNumeros import extraerNumeros\n",
    "\n",
    "# Agregar el nombre del archivo en la siguiente variable\n",
    "archivo = '.csv'\n",
    "ri = extraerNumeros(archivo)\n",
    "\n",
    "def pruebaPCADM(conjuntoNums):\n",
    "    secuencia = []\n",
    "    n0 = 0\n",
    "    n1 = 0\n",
    "\n",
    "    for x in range(len(conjuntoNums)):\n",
    "        if conjuntoNums[x] >= 0.5:\n",
    "            secuencia.append(1)\n",
    "        else:\n",
    "            secuencia.append(0)\n",
    "\n",
    "    if secuencia[len(secuencia) - 1] == 0:\n",
    "        n0 += 1\n",
    "    else:\n",
    "        n1 += 1\n",
    "\n",
    "    for x in range(len(secuencia) - 1):\n",
    "        if secuencia[x] != secuencia[x + 1]:\n",
    "            if secuencia[x] == 0:\n",
    "                n0 += 1\n",
    "            else:\n",
    "                n1 += 1\n",
    "\n",
    "    ceros = secuencia.count(0)\n",
    "    unos = secuencia.count(1)\n",
    "    c0 = n0 + n1\n",
    "    media = ((2 * ceros * unos) / (unos + ceros)) + 0.5\n",
    "    desv = ((2 * ceros * unos) * (2 * ceros * unos - 1)) / (((ceros + unos) ** 2) * ((ceros + unos) - 1))\n",
    "    varianza =  desv ** 0.5\n",
    "    z0 = (c0 - media) / varianza\n",
    "\n",
    "    return z0 > -1.96 and z0 < 1.96\n",
    "\n",
    "if pruebaPCADM(ri):\n",
    "    print('El conjunto de numeros ri pasaron la prueba de corridas arriba y debajo de la media')\n",
    "else:\n",
    "    print('El conjunto de numeros ri no pasaron la prueba de corridas arriba y debajo de la media')"
   ]
  }
 ],
 "metadata": {
  "interpreter": {
   "hash": "916dbcbb3f70747c44a77c7bcd40155683ae19c65e1c03b4aa3499c5328201f1"
  },
  "kernelspec": {
   "display_name": "Python 3.10.4 64-bit",
   "language": "python",
   "name": "python3"
  },
  "language_info": {
   "codemirror_mode": {
    "name": "ipython",
    "version": 3
   },
   "file_extension": ".py",
   "mimetype": "text/x-python",
   "name": "python",
   "nbconvert_exporter": "python",
   "pygments_lexer": "ipython3",
   "version": "3.10.4"
  },
  "orig_nbformat": 4
 },
 "nbformat": 4,
 "nbformat_minor": 2
}
