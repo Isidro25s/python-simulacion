{
 "cells": [
  {
   "cell_type": "code",
   "execution_count": null,
   "metadata": {},
   "outputs": [],
   "source": [
    "from extraerNumeros import extraerNumeros\n",
    "\n",
    "# Agregar el nombre del archivo en la siguiente variable\n",
    "archivo = '.csv'\n",
    "ri = extraerNumeros(archivo)\n",
    "\n",
    "def pruebaDeVarianza(conjuntoNums):\n",
    "    n = len(conjuntoNums)\n",
    "    suma_ri = sum(conjuntoNums)\n",
    "    media_ri = (1 / n) * suma_ri\n",
    "    sumatoria = 0\n",
    "\n",
    "    for x in range(n):\n",
    "        sumatoria += (conjuntoNums[x] - media_ri) ** 2\n",
    "\n",
    "    varianza = sumatoria / (n - 1)\n",
    "    gradosLibertad = n - 1\n",
    "    cc = 0.5 * ((-2.81 + (((2* gradosLibertad) - 1) ** 0.5)) ** 2)\n",
    "    cc1 = 0.5 * ((0.06 + (((2* gradosLibertad) - 1) ** 0.5)) ** 2)\n",
    "\n",
    "    li = cc / (12 * (n - 1))\n",
    "    ls = cc1 / (12 * (n - 1))\n",
    "    print(f'Limite Inferior: {li}\\nVarianza: \\t {varianza}\\nLimite Superior: {ls}')\n",
    "    return varianza > li and varianza < ls \n",
    "\n",
    "if pruebaDeVarianza(ri):\n",
    "    print('El conjunto de numeros ri pasaron la prueba de varianza')\n",
    "else:\n",
    "    print('El conjunto de numeros ri no pasaron la prueba de varianza')"
   ]
  }
 ],
 "metadata": {
  "interpreter": {
   "hash": "916dbcbb3f70747c44a77c7bcd40155683ae19c65e1c03b4aa3499c5328201f1"
  },
  "kernelspec": {
   "display_name": "Python 3.10.4 64-bit",
   "language": "python",
   "name": "python3"
  },
  "language_info": {
   "codemirror_mode": {
    "name": "ipython",
    "version": 3
   },
   "file_extension": ".py",
   "mimetype": "text/x-python",
   "name": "python",
   "nbconvert_exporter": "python",
   "pygments_lexer": "ipython3",
   "version": "3.10.4"
  },
  "orig_nbformat": 4
 },
 "nbformat": 4,
 "nbformat_minor": 2
}
