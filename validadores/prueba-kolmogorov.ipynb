{
 "cells": [
  {
   "cell_type": "code",
   "execution_count": null,
   "metadata": {},
   "outputs": [],
   "source": [
    "from extraerNumeros import extraerNumeros\n",
    "\n",
    "# Agregar el nombre del archivo en la siguiente variable\n",
    "archivo = '.csv'\n",
    "ri = extraerNumeros(archivo)\n",
    "\n",
    "def pruebaKolmogorov(conjuntoNums):\n",
    "    conjuntoNums.sort(key = float)\n",
    "    n = 10000\n",
    "    a1, a2, a3, a4 = [], [], [], []\n",
    "\n",
    "    for x in range(n):\n",
    "        i = x + 1\n",
    "        a1.append(i / n)\n",
    "        a2.append((i - 1) / n)\n",
    "        a3.append(a1[x] - conjuntoNums[x])\n",
    "        a4.append(conjuntoNums[x] - a2[x])\n",
    "\n",
    "    dPlus = max(a3)\n",
    "    dMinus = max(a4)\n",
    "    d = max(dPlus, dMinus)\n",
    "    dAlfa = 1.36 / (n ** 0.5)\n",
    "    return d < dAlfa\n",
    "\n",
    "if pruebaKolmogorov(ri):\n",
    "    print('El conjunto de numeros ri pasaron la prueba de kolmogorov')\n",
    "else:\n",
    "    print('El conjunto de numeros ri no pasaron la prueba de kolmogorov')"
   ]
  }
 ],
 "metadata": {
  "interpreter": {
   "hash": "916dbcbb3f70747c44a77c7bcd40155683ae19c65e1c03b4aa3499c5328201f1"
  },
  "kernelspec": {
   "display_name": "Python 3.10.4 64-bit",
   "language": "python",
   "name": "python3"
  },
  "language_info": {
   "codemirror_mode": {
    "name": "ipython",
    "version": 3
   },
   "file_extension": ".py",
   "mimetype": "text/x-python",
   "name": "python",
   "nbconvert_exporter": "python",
   "pygments_lexer": "ipython3",
   "version": "3.10.4"
  },
  "orig_nbformat": 4
 },
 "nbformat": 4,
 "nbformat_minor": 2
}
